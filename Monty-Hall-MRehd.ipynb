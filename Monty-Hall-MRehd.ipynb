{
 "cells": [
  {
   "cell_type": "markdown",
   "metadata": {},
   "source": [
    "# Monty Hall\n",
    "\n",
    "#### The Monty Hall problem was a TV show in which the host had a guest participant pick one of three doors in an attempt to win a car (which is behind only one of the doors). After the participant chooses the door, the host opens one of the other 2 doors and shows the guest it has nothing behind it. Then, the participant is asked whether he would like to switch doors. This simulation aims to find an answer to that question, to find out if the chances of winning the car are bigger if the participant switches the door or not. Here, we are assuming that the participant always switches doors. The scenario is played one million times and the number of wins and losses is counted. The final result is the win and loss ratios."
   ]
  },
  {
   "cell_type": "code",
   "execution_count": 1,
   "metadata": {},
   "outputs": [
    {
     "name": "stdout",
     "output_type": "stream",
     "text": [
      "0.666932 0.333068\n"
     ]
    }
   ],
   "source": [
    "import random\n",
    "\n",
    "# Number of simulations\n",
    "games = 1000000\n",
    "\n",
    "# Number of wins and losses\n",
    "win = 0\n",
    "loss = 0\n",
    "\n",
    "# For each simulation\n",
    "for attempt in range(games):\n",
    "    \n",
    "    # Define doors names and define a random door for the participant and another for the prize\n",
    "    doors = ['A','B','C']\n",
    "    participant = random.choice(doors)\n",
    "    prize = random.choice(doors)\n",
    "    \n",
    "    # If the participant and prize doors are the same\n",
    "    if participant == prize:\n",
    "        # Select the doors that are different than the participant/prize door\n",
    "        rest = list(set(participant) ^ set(doors))\n",
    "        # Remove a random door from the remaining doors\n",
    "        remove = random.choice(rest)\n",
    "        doors.remove(remove)\n",
    "        # The participant switches doors\n",
    "        participant = list(set(participant) ^ set(doors))[0]\n",
    "    \n",
    "    # If the participant and prize doors are NOT the same\n",
    "    else:\n",
    "        # Select the doors that are different than the participant and prize doors\n",
    "        rest = list(set(doors) ^ set(list(participant) + list(prize)))\n",
    "        # Remove a random door from the remaining doors\n",
    "        remove = random.choice(rest)\n",
    "        doors.remove(remove)\n",
    "        # The participant switches doors\n",
    "        participant = list(set(participant) ^ set(doors))[0]\n",
    "    \n",
    "    # Towards the end of the simulation, if the participant chose the prize door, win is incremented by one.\n",
    "    if participant == prize:\n",
    "        win += 1\n",
    "    # If the participant did not choose the prize door, loss is incremented by one.\n",
    "    else:\n",
    "        loss += 1\n",
    "        \n",
    "# Print Win and Loss percentages.\n",
    "print(win/games, loss/games)"
   ]
  },
  {
   "cell_type": "markdown",
   "metadata": {},
   "source": [
    "#### As seen in the simulation above, the participant wins 66.69% of the times if the offer to switch doors is taken. Therefore, switching is better than keeping the initial choice!"
   ]
  }
 ],
 "metadata": {
  "kernelspec": {
   "display_name": "Python 3",
   "language": "python",
   "name": "python3"
  },
  "language_info": {
   "codemirror_mode": {
    "name": "ipython",
    "version": 3
   },
   "file_extension": ".py",
   "mimetype": "text/x-python",
   "name": "python",
   "nbconvert_exporter": "python",
   "pygments_lexer": "ipython3",
   "version": "3.8.3"
  }
 },
 "nbformat": 4,
 "nbformat_minor": 4
}
